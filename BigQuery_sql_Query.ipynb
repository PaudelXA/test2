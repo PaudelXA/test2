{
 "cells": [
  {
   "cell_type": "markdown",
   "metadata": {},
   "source": [
    "# Downloading from BigQuery "
   ]
  },
  {
   "cell_type": "code",
   "execution_count": 2,
   "metadata": {},
   "outputs": [
    {
     "name": "stdout",
     "output_type": "stream",
     "text": [
      "Downloading: 100%|\u001b[32m██████████\u001b[0m|\n"
     ]
    }
   ],
   "source": [
    "# import os\n",
    "# from google.cloud import bigquery\n",
    "# import pandas_gbq \n",
    "# import pydata_google_auth\n",
    "\n",
    "# SCOPES = [\n",
    "# 'https://www.googleapis.com/auth/cloud-platform',\n",
    "# 'https://www.googleapis.com/auth/drive'\n",
    "# ]\n",
    "\n",
    "# credentials = pydata_google_auth.get_user_credentials(\n",
    "# SCOPES,\n",
    "# # Set auth_local_webserver to True to have a slightly more convenient\n",
    "# # authorization flow. Note, this doesn't work if you're running from a\n",
    "# # notebook on a remote sever, such as over SSH or with Google Colab.\n",
    "# auth_local_webserver=True\n",
    "# )\n",
    "\n",
    "# df = pandas_gbq.read_gbq(\n",
    "# \"\"\"SELECT\n",
    "#   trip.activity_id,\n",
    "#   trip.origin_bgrp,\n",
    "#   trip.destination_bgrp,\n",
    "#   trip.mode,\n",
    "#   trip.travel_purpose,\n",
    "#   trip.tour_type,\n",
    "#   trip.previous_activity_type,\n",
    "#   trip.start_time,\n",
    "#   trip.distance_miles,\n",
    "#   trip.duration_minutes,\n",
    "#   trip.origin_land_use_l1,\n",
    "#   trip.origin_building_use_l1,\n",
    "#   trip.destination_land_use_l1,\n",
    "#   trip.destination_building_use_l1,\n",
    "#   trip.person_id,\n",
    "#   person.person_id,\n",
    "#   person.household_income,\n",
    "#   person.TRACT,\n",
    "#   person.TRACT_work\n",
    "# FROM\n",
    "#   `replica-customer.northwest.northwest_2022_Q4_thursday_trip` AS trip\n",
    "# JOIN\n",
    "#   `replica-customer.northwest.northwest_2022_Q4_population` AS person\n",
    "# ON\n",
    "#   trip.person_id = person.person_id\n",
    "# WHERE\n",
    "#   (trip.duration_minutes BETWEEN 10 AND 8000) AND\n",
    "#   (trip.distance_miles > 3) AND\n",
    "#   (EXTRACT(HOUR FROM trip.start_time) >= 4 AND EXTRACT(HOUR FROM trip.start_time) <= 23) AND\n",
    "#   LEFT(person.TRACT_work, 5) IN ('53061', '53035', '53033', '53053', '53067') AND\n",
    "#   LEFT(person.TRACT, 5) IN ('53061', '53035', '53033', '53053', '53067')\"\"\",\n",
    "\n",
    "\n",
    "# project_id='replica-customer',\n",
    "# credentials=credentials,\n",
    "# use_bqstorage_api=True\n",
    "# )\n",
    "\n",
    "# #'53061' SNOHOMISH, '53035' KITSAP, '53033' KING, '53053' PIERCE, '53067'THURSTON\n",
    "\n",
    "\n",
    "# # Export DataFrame to CSV\n",
    "# df.to_csv(\"C:/Users/USAP093587/OneDrive - WSP O365/Seattle_Transit_Project/Replica_downloads/BigQueryDownloads/Fall2022_weekday_trip_pop_03_07_2024_fromBigQuery.csv\", index=False)\n",
    "\n",
    "\n",
    "# lol .... changed here"
   ]
  },
  {
   "cell_type": "code",
   "execution_count": 1,
   "metadata": {},
   "outputs": [
    {
     "name": "stdout",
     "output_type": "stream",
     "text": [
      "Downloading: 100%|\u001b[32m██████████\u001b[0m|\n"
     ]
    }
   ],
   "source": [
    "# Testing\n",
    "import os\n",
    "from google.cloud import bigquery\n",
    "import pandas_gbq \n",
    "import pydata_google_auth\n",
    "\n",
    "SCOPES = [\n",
    "'https://www.googleapis.com/auth/cloud-platform',\n",
    "'https://www.googleapis.com/auth/drive'\n",
    "]\n",
    "\n",
    "credentials = pydata_google_auth.get_user_credentials(\n",
    "SCOPES,\n",
    "# Set auth_local_webserver to True to have a slightly more convenient\n",
    "# authorization flow. Note, this doesn't work if you're running from a\n",
    "# notebook on a remote sever, such as over SSH or with Google Colab.\n",
    "auth_local_webserver=True\n",
    ")\n",
    "\n",
    "df = pandas_gbq.read_gbq(\n",
    "\"\"\"SELECT\n",
    "  trip.activity_id,\n",
    "  trip.origin_bgrp,\n",
    "  trip.destination_bgrp,\n",
    "  trip.mode,\n",
    "  trip.travel_purpose,\n",
    "  trip.tour_type,\n",
    "  trip.previous_activity_type,\n",
    "  trip.start_time,\n",
    "  trip.distance_miles,\n",
    "  trip.duration_minutes,\n",
    "  trip.origin_land_use_l1,\n",
    "  trip.origin_building_use_l1,\n",
    "  trip.destination_land_use_l1,\n",
    "  trip.destination_building_use_l1,\n",
    "  trip.person_id,\n",
    "  trip.network_link_ids\n",
    "FROM\n",
    "  `replica-customer.northwest.northwest_2023_Q2_thursday_trip` AS trip\n",
    "WHERE\n",
    "  trip.activity_id IN ('12970600733993107206')\"\"\",\n",
    "\n",
    "\n",
    "project_id='replica-customer',\n",
    "credentials=credentials,\n",
    "use_bqstorage_api=True\n",
    ")\n",
    "\n",
    "#'53061' SNOHOMISH, '53035' KITSAP, '53033' KING, '53053' PIERCE, '53067'THURSTON\n",
    "\n",
    "\n",
    "# Export DataFrame to CSV\n",
    "df.to_csv(\"C:/Users/USAP093587/OneDrive - WSP O365/Seattle_Transit_Project/Replica_downloads/BigQueryDownloads/test_1row.csv\", index=False)"
   ]
  },
  {
   "cell_type": "markdown",
   "metadata": {},
   "source": []
  },
  {
   "cell_type": "code",
   "execution_count": null,
   "metadata": {},
   "outputs": [],
   "source": []
  }
 ],
 "metadata": {
  "kernelspec": {
   "display_name": "base",
   "language": "python",
   "name": "python3"
  },
  "language_info": {
   "codemirror_mode": {
    "name": "ipython",
    "version": 3
   },
   "file_extension": ".py",
   "mimetype": "text/x-python",
   "name": "python",
   "nbconvert_exporter": "python",
   "pygments_lexer": "ipython3",
   "version": "3.11.5"
  }
 },
 "nbformat": 4,
 "nbformat_minor": 2
}
